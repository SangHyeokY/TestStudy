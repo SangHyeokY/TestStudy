{
 "cells": [
  {
   "cell_type": "markdown",
   "metadata": {},
   "source": [
    "### 외부 API를 활용한 데이터 수집 및 가공 평가"
   ]
  },
  {
   "cell_type": "markdown",
   "metadata": {},
   "source": [
    "##### 1. 키보드로 두 수를 입력받아 큰 수부터 출력하는 프로그램을 작성하시요. 단, 입력받는 두 수는 중복이 없다고 가정한다."
   ]
  },
  {
   "cell_type": "code",
   "execution_count": 2,
   "metadata": {},
   "outputs": [
    {
     "name": "stdout",
     "output_type": "stream",
     "text": [
      "33 12\n"
     ]
    }
   ],
   "source": [
    "# 1번 문제 답안 작성\n",
    "a_1 = input('1번째')\n",
    "b_1 = input('2번째')\n",
    "num1 = [a_1, b_1]\n",
    "print(max(num1), min(num1))"
   ]
  },
  {
   "cell_type": "markdown",
   "metadata": {},
   "source": [
    "##### 2. 키보드로 세 수를 입력받고,입력받은 세 수를 리스트에 저장하시오.<br> 그 후 리스트에 저장된 수 중 가장 큰 수와 가장 작은 수의 차를 출력하시오. (10점)"
   ]
  },
  {
   "cell_type": "code",
   "execution_count": 3,
   "metadata": {},
   "outputs": [
    {
     "name": "stdout",
     "output_type": "stream",
     "text": [
      "2\n"
     ]
    }
   ],
   "source": [
    "# 2번 문제 답안 작성\n",
    "list_2 = []\n",
    "a_2 = int(input('1번째'))\n",
    "b_2 = int(input('2번째'))\n",
    "c_2 = int(input('3번째'))\n",
    "list_2.append(a_2)\n",
    "list_2.append(b_2)\n",
    "list_2.append(c_2)\n",
    "d_2 = min(list_2)\n",
    "e_2 = max(list_2)\n",
    "print(e_2 - d_2)\n"
   ]
  },
  {
   "cell_type": "markdown",
   "metadata": {},
   "source": [
    "##### 3. 매개변수로 두 정수를 받아, 두 정수 사이의(두 정수 포함) 모든 정수를 갖는 리스트를 리턴하는 함수를 구현하시오."
   ]
  },
  {
   "cell_type": "code",
   "execution_count": 85,
   "metadata": {},
   "outputs": [
    {
     "name": "stdout",
     "output_type": "stream",
     "text": [
      "[3, 4, 5, 6]\n"
     ]
    }
   ],
   "source": [
    "# 3번 문제 답안 작성\n",
    "list_3 = []\n",
    "a_3 = int(input('1번째'))\n",
    "b_3 = int(input('2번째'))\n",
    "if a_3 < b_3 :\n",
    "    for i in range(a_3, b_3+1) :\n",
    "        list_3.append(i)\n",
    "else :\n",
    "    for i in range(b_3, a_3+1) :\n",
    "        list_3.append(i)\n",
    "print(list_3)"
   ]
  },
  {
   "cell_type": "markdown",
   "metadata": {},
   "source": [
    "##### 다음 딕셔너리 데이터를 참고하여 아래 문제들을 해결하시오."
   ]
  },
  {
   "cell_type": "code",
   "execution_count": 5,
   "metadata": {},
   "outputs": [],
   "source": [
    "# 2012년 광역시별 25세 미만 연령별 인구 데이터\n",
    "population = {\n",
    "    '행정기관' : ['서울특별시', '부산광역시', '대구광역시', '인천광역시', '울산광역시'],\n",
    "    '0~4세' : [214651, 68006, 53515, 69453, 29835],\n",
    "    '5~9세' : [210833, 68704, 58332, 68555, 29331],\n",
    "    '10~14세' : [269171, 94802, 91268, 86574, 29035],\n",
    "    '15~19세' : [335828, 124564, 101110, 106435, 49119],\n",
    "    '20~24세' : [343797, 125907, 96078, 102297, 43937]\n",
    "}"
   ]
  },
  {
   "cell_type": "markdown",
   "metadata": {},
   "source": [
    "##### 4. 2012년 기준 대한민국에서 25세 미만의 인구수 중 인구가 가장 많은 연령대를 출력하시오."
   ]
  },
  {
   "cell_type": "code",
   "execution_count": 103,
   "metadata": {},
   "outputs": [
    {
     "name": "stdout",
     "output_type": "stream",
     "text": [
      "key=20~24세\n"
     ]
    }
   ],
   "source": [
    "# 4번 문제 답안 작성\n",
    "list_value = []\n",
    "## 반복문 시행\n",
    "for e in population :\n",
    "    if population[e] != population['행정기관'] :\n",
    "        list_value.append(max(population[e]))         \n",
    "a4 = max(list_value)\n",
    "\n",
    "for j in population :\n",
    "    if max(population[j]) == a4 :\n",
    "        print(f'key={j}')"
   ]
  },
  {
   "cell_type": "markdown",
   "metadata": {},
   "source": [
    "##### 5. '총 인구수' 라는 키를 추가하고, 해당 키에 1세부터 24세까지의 인구 합을 데이터로 하여 population 데이터에 추가하시오."
   ]
  },
  {
   "cell_type": "code",
   "execution_count": 159,
   "metadata": {},
   "outputs": [
    {
     "name": "stdout",
     "output_type": "stream",
     "text": [
      "[1374280, 481983, 400303, 433314, 181257]\n",
      "{'행정기관': ['서울특별시', '부산광역시', '대구광역시', '인천광역시', '울산광역시'], '0~4세': [214651, 68006, 53515, 69453, 29835], '5~9세': [210833, 68704, 58332, 68555, 29331], '10~14세': [269171, 94802, 91268, 86574, 29035], '15~19세': [335828, 124564, 101110, 106435, 49119], '20~24세': [343797, 125907, 96078, 102297, 43937], '총 인구수': [1374280, 481983, 400303, 433314, 181257]}\n"
     ]
    }
   ],
   "source": [
    "# 5번 문제 답안 작성\n",
    "\n",
    "# 팁\n",
    "# list_data = [10, 20, 30, 40, 50]\n",
    "# for idx, num in enumerate(list_data) :\n",
    "#    print(idx, num)\n",
    "\n",
    "result_list = []\n",
    "\n",
    "# 0 ~ 4까지 반복\n",
    "for i in range(len(population['행정기관'])) :\n",
    "    sum_data = population['0~4세'][i] + population['5~9세'][i] + population['10~14세'][i] + population['15~19세'][i] + population['20~24세'][i]\n",
    "    result_list.append(sum_data)\n",
    "print(result_list)\n",
    "\n",
    "population['총 인구수'] = result_list\n",
    "print(population)"
   ]
  },
  {
   "cell_type": "code",
   "execution_count": 168,
   "metadata": {},
   "outputs": [
    {
     "name": "stdout",
     "output_type": "stream",
     "text": [
      "{'행정기관': ['서울특별시', '부산광역시', '대구광역시', '인천광역시', '울산광역시'], '0~4세': [214651, 68006, 53515, 69453, 29835], '5~9세': [210833, 68704, 58332, 68555, 29331], '10~14세': [269171, 94802, 91268, 86574, 29035], '15~19세': [335828, 124564, 101110, 106435, 49119], '20~24세': [343797, 125907, 96078, 102297, 43937], '총 인구수': [1374280, 481983, 400303, 433314, 181257]}\n"
     ]
    }
   ],
   "source": [
    "result_list_2 = []\n",
    "\n",
    "for i in range(len(population['행정기관'])) :\n",
    "    sum_data_2 = 0\n",
    "    for key in population :\n",
    "        if key != '행정기관':\n",
    "            sum_data_2 = sum_data_2 + population[key][i]\n",
    "    result_list_2.append(sum_data_2)\n",
    "\n",
    "population['총 인구수'] = result_list_2\n",
    "print(population)\n",
    "\n",
    "# 실행할수록 값이 계속 누적되므로 지운다 (필수x)\n",
    "result_list_2.clear()\n",
    "del population['총 인구수']"
   ]
  },
  {
   "cell_type": "code",
   "execution_count": null,
   "metadata": {},
   "outputs": [],
   "source": []
  },
  {
   "cell_type": "code",
   "execution_count": null,
   "metadata": {},
   "outputs": [],
   "source": []
  }
 ],
 "metadata": {
  "kernelspec": {
   "display_name": "Python 3",
   "language": "python",
   "name": "python3"
  },
  "language_info": {
   "codemirror_mode": {
    "name": "ipython",
    "version": 3
   },
   "file_extension": ".py",
   "mimetype": "text/x-python",
   "name": "python",
   "nbconvert_exporter": "python",
   "pygments_lexer": "ipython3",
   "version": "3.12.2"
  }
 },
 "nbformat": 4,
 "nbformat_minor": 2
}
